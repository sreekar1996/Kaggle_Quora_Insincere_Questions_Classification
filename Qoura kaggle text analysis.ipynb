{
 "cells": [
  {
   "cell_type": "code",
   "execution_count": null,
   "metadata": {
    "_cell_guid": "b1076dfc-b9ad-4769-8c92-a6c4dae69d19",
    "_uuid": "8f2839f25d086af736a60e9eeb907d3b93b6e0e5"
   },
   "outputs": [],
   "source": [
    "# This Python 3 environment comes with many helpful analytics libraries installed\n",
    "# It is defined by the kaggle/python docker image: https://github.com/kaggle/docker-python\n",
    "# For example, here's several helpful packages to load in \n",
    "\n",
    "import numpy as np # linear algebra\n",
    "import pandas as pd # data processing, CSV file I/O (e.g. pd.read_csv)\n",
    "\n",
    "\n",
    "# Input data files are available in the \"../input/\" directory.\n",
    "# For example, running this (by clicking run or pressing Shift+Enter) will list the files in the input directory\n",
    "\n",
    "import os\n",
    "print(os.listdir(\"../input\"))\n",
    "data=pd.read_csv('../input/train.csv')\n",
    "\n",
    "# Any results you write to the current directory are saved as output."
   ]
  },
  {
   "cell_type": "code",
   "execution_count": null,
   "metadata": {
    "_cell_guid": "79c7e3d0-c299-4dcb-8224-4455121ee9b0",
    "_uuid": "d629ff2d2480ee46fbb7e2d37f6b5fab8052498a"
   },
   "outputs": [],
   "source": [
    "data.shape\n",
    "from matplotlib import *\n",
    "import matplotlib.pyplot as plt"
   ]
  },
  {
   "cell_type": "code",
   "execution_count": null,
   "metadata": {
    "_uuid": "7a2dc21ee5370a9369500821e8530ab24cad6749"
   },
   "outputs": [],
   "source": [
    "data.head()"
   ]
  },
  {
   "cell_type": "code",
   "execution_count": null,
   "metadata": {
    "_uuid": "345b23c0085e895274ffc4551653749d2aef9967"
   },
   "outputs": [],
   "source": [
    "import nltk\n",
    "import wordcloud"
   ]
  },
  {
   "cell_type": "code",
   "execution_count": null,
   "metadata": {
    "_uuid": "94cb90c51d71d7cd8e300fb5d486b2493f57da6a"
   },
   "outputs": [],
   "source": [
    "class_0=data[data['target']==0]\n",
    "class_1=data[data['target']==1]\n",
    "wc=wordcloud.WordCloud().generate(' '.join(class_0['question_text']))\n",
    "plt.imshow(wc)"
   ]
  },
  {
   "cell_type": "code",
   "execution_count": null,
   "metadata": {
    "_uuid": "a18d983c3a41155cb54f4a5f34b689c17ded97ee"
   },
   "outputs": [],
   "source": [
    "wc1=wordcloud.WordCloud().generate(' '.join(class_1['question_text']))\n",
    "plt.imshow(wc1)"
   ]
  },
  {
   "cell_type": "code",
   "execution_count": null,
   "metadata": {
    "_uuid": "4408a5dbcf4d8b1ff0423077dd40006846d09675"
   },
   "outputs": [],
   "source": [
    "nltk.corpus.stopwords.words('english')\n",
    "stop_words=nltk.corpus.stopwords.words('english')\n",
    "junk_words=[\"amp\",'rt','https','will']\n",
    "len(stop_words)\n",
    "stop_words.extend(junk_words)\n",
    "len(stop_words)"
   ]
  },
  {
   "cell_type": "code",
   "execution_count": null,
   "metadata": {
    "_uuid": "cec7fe4bb5ed08dad212bd80ee54f4c229d1bb1e"
   },
   "outputs": [],
   "source": [
    "## cleaning the data\n",
    "docs=data['question_text'].str.lower()\n",
    "docs.head()\n",
    "docs=docs.str.replace('[^a-z #@]','') # retain all alphabets with #@\n",
    "docs.head()"
   ]
  },
  {
   "cell_type": "code",
   "execution_count": null,
   "metadata": {
    "_uuid": "e35edc2c0ca5473e55f5890f3946c8df22db99bc"
   },
   "outputs": [],
   "source": [
    "stemmer=nltk.PorterStemmer()\n",
    "def clean_text(row_text):\n",
    "    #print(type(row_text))\n",
    "    row_words=row_text.split(' ')\n",
    "    #print(row_words)\n",
    "    row_words= [stemmer.stem(word) for word in row_words if word not in stop_words]\n",
    "    #print(row_words)\n",
    "    #print('----')\n",
    "    return ' '.join(row_words)\n",
    "\n",
    "docs_clean=docs.apply(lambda v: clean_text(v))"
   ]
  },
  {
   "cell_type": "code",
   "execution_count": null,
   "metadata": {
    "_uuid": "8e1225035abbb6ba269c88f43fdc8d8d7cebcd48"
   },
   "outputs": [],
   "source": [
    "data[\"clean_one\"]=docs_clean"
   ]
  },
  {
   "cell_type": "code",
   "execution_count": null,
   "metadata": {
    "_uuid": "1fa625a9d0b81a7bc5f3d7616eb80529aea2a0dc"
   },
   "outputs": [],
   "source": [
    "data.head()"
   ]
  },
  {
   "cell_type": "code",
   "execution_count": null,
   "metadata": {
    "_uuid": "e4afd51a7c8972550ccc00d7acd50724ab6c8202"
   },
   "outputs": [],
   "source": [
    "df=data[[\"clean_one\",\"target\"]]"
   ]
  },
  {
   "cell_type": "code",
   "execution_count": null,
   "metadata": {
    "_uuid": "024435f4ef53f7abf8aee314e2b1e585c430eccd"
   },
   "outputs": [],
   "source": [
    "df.head()"
   ]
  },
  {
   "cell_type": "code",
   "execution_count": null,
   "metadata": {
    "_uuid": "95c9672bbde992de4df4e46ade50923b55bbe8c7"
   },
   "outputs": [],
   "source": [
    "# or else go with df\n",
    "from sklearn.model_selection import train_test_split\n",
    "\n",
    "train,validate= train_test_split(docs_clean,test_size=0.3, random_state=100)\n",
    "train_y=data.loc[train.index][\"target\"]\n",
    "validate_y=data.loc[validate.index][\"target\"]"
   ]
  },
  {
   "cell_type": "code",
   "execution_count": null,
   "metadata": {
    "_uuid": "449e5860916fae301cc9bbd6b8697670fb6db6d4"
   },
   "outputs": [],
   "source": [
    "train.shape, validate.shape,train_y.shape,validate_y.shape"
   ]
  },
  {
   "cell_type": "code",
   "execution_count": null,
   "metadata": {
    "_uuid": "473380e3729d504e627c9a9ca6f4310efe929fbf"
   },
   "outputs": [],
   "source": [
    "from sklearn.feature_extraction.text import CountVectorizer"
   ]
  },
  {
   "cell_type": "code",
   "execution_count": null,
   "metadata": {
    "_uuid": "ccba32acb400296f0c65da727580328e88cfd7d9"
   },
   "outputs": [],
   "source": [
    "cv=CountVectorizer()\n",
    "cv.fit(train)\n",
    "train_x_sparse=cv.transform(train)\n",
    "validate_x_sparse=cv.transform(validate)\n"
   ]
  },
  {
   "cell_type": "code",
   "execution_count": null,
   "metadata": {
    "_uuid": "603fc90bc73a4e414a4dc385b6c00ba575a094d5"
   },
   "outputs": [],
   "source": [
    "from sklearn.tree import DecisionTreeClassifier\n",
    "from sklearn.ensemble import RandomForestClassifier\n",
    "dt_model=DecisionTreeClassifier(max_depth=20,random_state=100)\n",
    "dt_model.fit(train_x_sparse,train_y)"
   ]
  },
  {
   "cell_type": "code",
   "execution_count": null,
   "metadata": {
    "_uuid": "4ac96f8c3c2c7a1cb1e2cdb83dd423c4f695ff91"
   },
   "outputs": [],
   "source": [
    "pred_class=dt_model.predict(validate_x_sparse)"
   ]
  },
  {
   "cell_type": "code",
   "execution_count": null,
   "metadata": {
    "_uuid": "37051c81e90a13ddb6f07362aaad47fd163081f5"
   },
   "outputs": [],
   "source": [
    "from sklearn.metrics import accuracy_score,f1_score,roc_curve,auc"
   ]
  },
  {
   "cell_type": "code",
   "execution_count": null,
   "metadata": {
    "_uuid": "22dcd48e3b22e4e0ed51850b2caf245c65dc5e48"
   },
   "outputs": [],
   "source": [
    "print(accuracy_score(validate_y,pred_class))"
   ]
  },
  {
   "cell_type": "code",
   "execution_count": null,
   "metadata": {
    "_uuid": "dfba3e2aebea4c6d335ad055a2c06b65babbdcd8"
   },
   "outputs": [],
   "source": [
    "print(f1_score(validate_y,pred_class))"
   ]
  },
  {
   "cell_type": "code",
   "execution_count": null,
   "metadata": {
    "_uuid": "b93e96c834125018c7c3c4a8e67ae1bf53d58fbc"
   },
   "outputs": [],
   "source": [
    "pred_probs=pd.DataFrame(dt_model.predict_proba(validate_x_sparse),columns=['Sincere','Insincere'])\n",
    "pred_probs.head()"
   ]
  },
  {
   "cell_type": "code",
   "execution_count": null,
   "metadata": {
    "_uuid": "78954851028096c2309263e9fa79907a582c0114"
   },
   "outputs": [],
   "source": [
    "fpr,tpr,thresholds=roc_curve(validate_y,pred_probs[\"Insincere\"])\n",
    "auc_dt=auc(fpr,tpr)\n",
    "plt.plot(fpr,tpr)\n",
    "plt.legend([\"Decision Tree -AUC: %2f\" % auc_dt])"
   ]
  },
  {
   "cell_type": "code",
   "execution_count": null,
   "metadata": {
    "_uuid": "5ee5d97ccc73cd703cfad21df119818732c82fa0"
   },
   "outputs": [],
   "source": [
    "test=pd.read_csv('../input/test.csv')\n",
    "test_docs=test['question_text'].fillna('').str.lower()\n",
    "test_docs=test_docs.str.replace('[^a-z #@]','')\n",
    "test_docs_clean=test_docs.apply(lambda x: ' '.join([stemmer.stem(word) for word in x.split(' ') if word not in stop_words]))\n",
    "test_docs_clean.shape"
   ]
  },
  {
   "cell_type": "code",
   "execution_count": null,
   "metadata": {
    "_uuid": "0fd813cd88ba656fc5c5f49d4ab2b5c3a684c2d9"
   },
   "outputs": [],
   "source": [
    "test_x=cv.transform(test_docs_clean)\n",
    "test_pred_class=dt_model.predict(test_x)\n",
    "test_pred_class.shape"
   ]
  },
  {
   "cell_type": "code",
   "execution_count": null,
   "metadata": {
    "_uuid": "ee56712714c0a86155660c8e894677e7dbea1ba1"
   },
   "outputs": [],
   "source": [
    "submission=pd.DataFrame({'qid':test['qid'],'prediction':test_pred_class})\n",
    "submission.to_csv(\"submission.csv\",index=True)\n",
    "submission.head()"
   ]
  },
  {
   "cell_type": "code",
   "execution_count": null,
   "metadata": {
    "_uuid": "2968a4c7da88465d0fc954122dd2275153d283ec"
   },
   "outputs": [],
   "source": []
  }
 ],
 "metadata": {
  "kernelspec": {
   "display_name": "Python 3",
   "language": "python",
   "name": "python3"
  },
  "language_info": {
   "codemirror_mode": {
    "name": "ipython",
    "version": 3
   },
   "file_extension": ".py",
   "mimetype": "text/x-python",
   "name": "python",
   "nbconvert_exporter": "python",
   "pygments_lexer": "ipython3",
   "version": "3.7.0"
  }
 },
 "nbformat": 4,
 "nbformat_minor": 1
}
